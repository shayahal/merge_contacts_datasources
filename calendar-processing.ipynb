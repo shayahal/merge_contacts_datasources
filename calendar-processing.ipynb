{
 "cells": [
  {
   "cell_type": "code",
   "execution_count": 7,
   "metadata": {},
   "outputs": [
    {
     "name": "stdout",
     "output_type": "stream",
     "text": [
      "Defaulting to user installation because normal site-packages is not writeable\n",
      "Requirement already satisfied: pandas in /Users/shayyahal/Library/Python/3.9/lib/python/site-packages (2.2.3)\n",
      "Requirement already satisfied: icalendar in /Users/shayyahal/Library/Python/3.9/lib/python/site-packages (6.1.0)\n",
      "Requirement already satisfied: pytz in /Users/shayyahal/Library/Python/3.9/lib/python/site-packages (2024.2)\n",
      "Requirement already satisfied: numpy>=1.22.4 in /Users/shayyahal/Library/Python/3.9/lib/python/site-packages (from pandas) (2.0.2)\n",
      "Requirement already satisfied: python-dateutil>=2.8.2 in /Users/shayyahal/Library/Python/3.9/lib/python/site-packages (from pandas) (2.9.0.post0)\n",
      "Requirement already satisfied: tzdata>=2022.7 in /Users/shayyahal/Library/Python/3.9/lib/python/site-packages (from pandas) (2024.2)\n",
      "Requirement already satisfied: six>=1.5 in /Library/Developer/CommandLineTools/Library/Frameworks/Python3.framework/Versions/3.9/lib/python3.9/site-packages (from python-dateutil>=2.8.2->pandas) (1.15.0)\n",
      "Note: you may need to restart the kernel to use updated packages.\n"
     ]
    }
   ],
   "source": [
    "pip install pandas icalendar pytz"
   ]
  },
  {
   "cell_type": "code",
   "execution_count": 8,
   "metadata": {},
   "outputs": [],
   "source": [
    "import pandas as pd\n",
    "from icalendar import Calendar\n",
    "from datetime import datetime, date\n",
    "import pytz\n",
    "from secrets import MY_CALENDAR_EMAIL\n",
    "\n",
    "def parse_ics_file(file_path):\n",
    "    # Read the ICS file\n",
    "    with open(file_path, 'rb') as f:\n",
    "        cal = Calendar.from_ical(f.read())\n",
    "    \n",
    "    # List to store meeting data\n",
    "    meetings = []\n",
    "    \n",
    "    # Iterate through all events\n",
    "    for event in cal.walk('VEVENT'):\n",
    "        # Get start time\n",
    "        start = event.get('dtstart').dt\n",
    "        # Convert datetime to timezone-aware if it's a datetime object\n",
    "        if isinstance(start, datetime) and start.tzinfo is None:\n",
    "            start = pytz.UTC.localize(start)\n",
    "        \n",
    "        # Get end time\n",
    "        end = event.get('dtend').dt\n",
    "        if isinstance(end, datetime) and end.tzinfo is None:\n",
    "            end = pytz.UTC.localize(end)\n",
    "\n",
    "        last_modified = event.get('last-modified').dt \n",
    "        if isinstance(last_modified, datetime) and last_modified.tzinfo is None:\n",
    "            last_modified = pytz.UTC.localize(last_modified)  \n",
    "\n",
    "        # Extract other event details\n",
    "        meeting = {\n",
    "            'summary': str(event.get('summary', '')),\n",
    "            'start': start,\n",
    "            'end': end,\n",
    "            'location': str(event.get('location', '')),\n",
    "            'description': str(event.get('description', '')),\n",
    "            'last_modified': last_modified,\n",
    "            'organizer': str(event.get('organizer', '')),\n",
    "            'attendee': str(event.get('attendee', '')),\n",
    "            'attendees_count': len(event.get('attendee', [])),\n",
    "        }\n",
    "        meetings.append(meeting)\n",
    "    \n",
    "    # Create DataFrame\n",
    "    df = pd.DataFrame(meetings)\n",
    "        \n",
    "    return df\n",
    "\n",
    "# Process the file\n",
    "df = parse_ics_file('data/raw/my-calendar.ics')"
   ]
  },
  {
   "cell_type": "code",
   "execution_count": 9,
   "metadata": {},
   "outputs": [],
   "source": [
    "def clean_organizer_attendee(df):\n",
    "    copy = df.copy()\n",
    "    copy['organizer'] = copy['organizer'].str.replace(\"mailto:\", \"\").str.replace('unknownorganizer@calendar.google.com', '')\n",
    "    copy['attendee'] = copy['attendee'].str.replace(\"mailto:\", \"\").str.replace(\"vCalAddress\", \"\").str.replace(\"'\", \"\").str.replace(\"[\", \"\").str.replace(\"]\", \"\").str.replace(\"(\", \"\").str.replace(\")\", \"\").str.strip(',')\n",
    "    \n",
    "    copy['attendess'] = copy['organizer'] + ',' + copy['attendee']\n",
    "    copy['attendess'] = copy['attendess'].str.replace(MY_CALENDAR_EMAIL, \"\").str.strip(',')\n",
    "    copy['attendess'] = copy['attendess'].str.replace(',,', ',').str.strip(', ').str.replace(', ', ',')\n",
    "    copy = copy.drop(columns = ['organizer', 'attendee'])\n",
    "    return copy\n",
    "\n",
    "df = clean_organizer_attendee(df)"
   ]
  },
  {
   "cell_type": "code",
   "execution_count": 5,
   "metadata": {},
   "outputs": [],
   "source": [
    "df.to_csv('data/processed/my-calendar.csv', index=False)"
   ]
  }
 ],
 "metadata": {
  "kernelspec": {
   "display_name": "Python 3",
   "language": "python",
   "name": "python3"
  },
  "language_info": {
   "codemirror_mode": {
    "name": "ipython",
    "version": 3
   },
   "file_extension": ".py",
   "mimetype": "text/x-python",
   "name": "python",
   "nbconvert_exporter": "python",
   "pygments_lexer": "ipython3",
   "version": "3.9.6"
  }
 },
 "nbformat": 4,
 "nbformat_minor": 2
}
